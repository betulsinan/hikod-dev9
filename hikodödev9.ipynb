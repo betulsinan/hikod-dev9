{
 "cells": [
  {
   "cell_type": "code",
   "execution_count": 17,
   "id": "2386402c-6810-4020-a9c3-daf7196229b7",
   "metadata": {},
   "outputs": [],
   "source": [
    "import pandas as pd\n",
    "import matplotlib.pyplot as plt\n",
    "import seaborn as sns"
   ]
  },
  {
   "cell_type": "code",
   "execution_count": 23,
   "id": "68f60739-9a1c-477b-93f4-543a0bf273f7",
   "metadata": {},
   "outputs": [
    {
     "data": {
      "text/html": [
       "<div>\n",
       "<style scoped>\n",
       "    .dataframe tbody tr th:only-of-type {\n",
       "        vertical-align: middle;\n",
       "    }\n",
       "\n",
       "    .dataframe tbody tr th {\n",
       "        vertical-align: top;\n",
       "    }\n",
       "\n",
       "    .dataframe thead th {\n",
       "        text-align: right;\n",
       "    }\n",
       "</style>\n",
       "<table border=\"1\" class=\"dataframe\">\n",
       "  <thead>\n",
       "    <tr style=\"text-align: right;\">\n",
       "      <th></th>\n",
       "      <th>country</th>\n",
       "      <th>country_code</th>\n",
       "      <th>region</th>\n",
       "      <th>gold</th>\n",
       "      <th>silver</th>\n",
       "      <th>bronze</th>\n",
       "      <th>total</th>\n",
       "      <th>gdp</th>\n",
       "      <th>gdp_year</th>\n",
       "      <th>population</th>\n",
       "    </tr>\n",
       "  </thead>\n",
       "  <tbody>\n",
       "    <tr>\n",
       "      <th>0</th>\n",
       "      <td>United States</td>\n",
       "      <td>USA</td>\n",
       "      <td>North America</td>\n",
       "      <td>40</td>\n",
       "      <td>44</td>\n",
       "      <td>42</td>\n",
       "      <td>126</td>\n",
       "      <td>81695.19</td>\n",
       "      <td>2023</td>\n",
       "      <td>334.9</td>\n",
       "    </tr>\n",
       "    <tr>\n",
       "      <th>1</th>\n",
       "      <td>China</td>\n",
       "      <td>CHN</td>\n",
       "      <td>Asia</td>\n",
       "      <td>40</td>\n",
       "      <td>27</td>\n",
       "      <td>24</td>\n",
       "      <td>91</td>\n",
       "      <td>12614.06</td>\n",
       "      <td>2023</td>\n",
       "      <td>1410.7</td>\n",
       "    </tr>\n",
       "    <tr>\n",
       "      <th>2</th>\n",
       "      <td>Japan</td>\n",
       "      <td>JPN</td>\n",
       "      <td>Asia</td>\n",
       "      <td>20</td>\n",
       "      <td>12</td>\n",
       "      <td>13</td>\n",
       "      <td>45</td>\n",
       "      <td>33834.39</td>\n",
       "      <td>2023</td>\n",
       "      <td>124.5</td>\n",
       "    </tr>\n",
       "    <tr>\n",
       "      <th>3</th>\n",
       "      <td>Australia</td>\n",
       "      <td>AUS</td>\n",
       "      <td>Oceania</td>\n",
       "      <td>18</td>\n",
       "      <td>19</td>\n",
       "      <td>16</td>\n",
       "      <td>53</td>\n",
       "      <td>64711.77</td>\n",
       "      <td>2023</td>\n",
       "      <td>26.6</td>\n",
       "    </tr>\n",
       "    <tr>\n",
       "      <th>4</th>\n",
       "      <td>France</td>\n",
       "      <td>FRA</td>\n",
       "      <td>Europe</td>\n",
       "      <td>16</td>\n",
       "      <td>26</td>\n",
       "      <td>22</td>\n",
       "      <td>64</td>\n",
       "      <td>44460.82</td>\n",
       "      <td>2023</td>\n",
       "      <td>68.2</td>\n",
       "    </tr>\n",
       "  </tbody>\n",
       "</table>\n",
       "</div>"
      ],
      "text/plain": [
       "         country country_code         region  gold  silver  bronze  total  \\\n",
       "0  United States          USA  North America    40      44      42    126   \n",
       "1          China          CHN           Asia    40      27      24     91   \n",
       "2          Japan          JPN           Asia    20      12      13     45   \n",
       "3      Australia          AUS        Oceania    18      19      16     53   \n",
       "4         France          FRA         Europe    16      26      22     64   \n",
       "\n",
       "        gdp  gdp_year  population  \n",
       "0  81695.19      2023       334.9  \n",
       "1  12614.06      2023      1410.7  \n",
       "2  33834.39      2023       124.5  \n",
       "3  64711.77      2023        26.6  \n",
       "4  44460.82      2023        68.2  "
      ]
     },
     "execution_count": 23,
     "metadata": {},
     "output_type": "execute_result"
    }
   ],
   "source": [
    "df = pd.read_csv(\"olympics.csv\")\n",
    "df.head()"
   ]
  },
  {
   "cell_type": "code",
   "execution_count": 25,
   "id": "4dae7081-9d73-4a92-81f5-c741422ecd49",
   "metadata": {},
   "outputs": [
    {
     "data": {
      "text/plain": [
       "country\n",
       "United States     1\n",
       "North Korea       1\n",
       "Armenia           1\n",
       "Mexico            1\n",
       "Turkey            1\n",
       "                 ..\n",
       "Denmark           1\n",
       "Czech Republic    1\n",
       "Serbia            1\n",
       "Bulgaria          1\n",
       "Zambia            1\n",
       "Name: count, Length: 90, dtype: int64"
      ]
     },
     "execution_count": 25,
     "metadata": {},
     "output_type": "execute_result"
    }
   ],
   "source": [
    "df[\"country\"].value_counts()"
   ]
  },
  {
   "cell_type": "code",
   "execution_count": 27,
   "id": "ba2162bd-17c5-4a1b-aa77-6289bc008a1b",
   "metadata": {},
   "outputs": [
    {
     "data": {
      "text/plain": [
       "country_code\n",
       "USA    1\n",
       "PRK    1\n",
       "ARM    1\n",
       "MEX    1\n",
       "TUR    1\n",
       "      ..\n",
       "DNK    1\n",
       "CZE    1\n",
       "SRB    1\n",
       "BGR    1\n",
       "ZMB    1\n",
       "Name: count, Length: 90, dtype: int64"
      ]
     },
     "execution_count": 27,
     "metadata": {},
     "output_type": "execute_result"
    }
   ],
   "source": [
    "df[\"country_code\"].value_counts()"
   ]
  },
  {
   "cell_type": "code",
   "execution_count": 29,
   "id": "625a9ad7-60a3-4249-ae71-aa90acb08b6f",
   "metadata": {},
   "outputs": [
    {
     "data": {
      "text/plain": [
       "region\n",
       "Europe           31\n",
       "Asia             26\n",
       "Africa           12\n",
       "North America     7\n",
       "South America     7\n",
       "Caribbean         4\n",
       "Oceania           3\n",
       "Name: count, dtype: int64"
      ]
     },
     "execution_count": 29,
     "metadata": {},
     "output_type": "execute_result"
    }
   ],
   "source": [
    "df[\"region\"].value_counts()"
   ]
  },
  {
   "cell_type": "code",
   "execution_count": 31,
   "id": "fb5e8d1e-d83a-43f4-9158-e6b9e1581a60",
   "metadata": {},
   "outputs": [
    {
     "data": {
      "text/plain": [
       "gold\n",
       "0     27\n",
       "1     23\n",
       "2     12\n",
       "3      9\n",
       "4      4\n",
       "12     2\n",
       "40     2\n",
       "13     1\n",
       "10     1\n",
       "20     1\n",
       "8      1\n",
       "6      1\n",
       "5      1\n",
       "14     1\n",
       "15     1\n",
       "16     1\n",
       "18     1\n",
       "9      1\n",
       "Name: count, dtype: int64"
      ]
     },
     "execution_count": 31,
     "metadata": {},
     "output_type": "execute_result"
    }
   ],
   "source": [
    "df[\"gold\"].value_counts()"
   ]
  },
  {
   "cell_type": "code",
   "execution_count": 33,
   "id": "63d07e84-2581-4e35-8f76-d4f2702222e4",
   "metadata": {},
   "outputs": [
    {
     "data": {
      "text/plain": [
       "silver\n",
       "0     25\n",
       "1     23\n",
       "2     11\n",
       "3     10\n",
       "7      5\n",
       "4      4\n",
       "13     2\n",
       "5      2\n",
       "44     1\n",
       "27     1\n",
       "12     1\n",
       "19     1\n",
       "26     1\n",
       "22     1\n",
       "9      1\n",
       "6      1\n",
       "Name: count, dtype: int64"
      ]
     },
     "execution_count": 33,
     "metadata": {},
     "output_type": "execute_result"
    }
   ],
   "source": [
    "df[\"silver\"].value_counts()"
   ]
  },
  {
   "cell_type": "code",
   "execution_count": 35,
   "id": "a554fbcc-4c32-4752-af3d-6213c813937d",
   "metadata": {},
   "outputs": [
    {
     "data": {
      "text/plain": [
       "bronze\n",
       "1     22\n",
       "2     15\n",
       "0     13\n",
       "3     13\n",
       "5      7\n",
       "6      4\n",
       "4      3\n",
       "10     2\n",
       "9      1\n",
       "11     1\n",
       "42     1\n",
       "24     1\n",
       "15     1\n",
       "29     1\n",
       "12     1\n",
       "22     1\n",
       "16     1\n",
       "13     1\n",
       "8      1\n",
       "Name: count, dtype: int64"
      ]
     },
     "execution_count": 35,
     "metadata": {},
     "output_type": "execute_result"
    }
   ],
   "source": [
    "df[\"bronze\"].value_counts()"
   ]
  },
  {
   "cell_type": "code",
   "execution_count": 37,
   "id": "d3a2eafe-d67a-4efe-a04e-d5af006d4f32",
   "metadata": {},
   "outputs": [
    {
     "data": {
      "text/plain": [
       "total\n",
       "1      14\n",
       "2      11\n",
       "4       9\n",
       "3       8\n",
       "7       8\n",
       "6       6\n",
       "5       5\n",
       "8       4\n",
       "9       3\n",
       "10      2\n",
       "12      2\n",
       "20      2\n",
       "11      2\n",
       "18      1\n",
       "126     1\n",
       "91      1\n",
       "13      1\n",
       "27      1\n",
       "33      1\n",
       "40      1\n",
       "32      1\n",
       "65      1\n",
       "34      1\n",
       "64      1\n",
       "53      1\n",
       "45      1\n",
       "19      1\n",
       "Name: count, dtype: int64"
      ]
     },
     "execution_count": 37,
     "metadata": {},
     "output_type": "execute_result"
    }
   ],
   "source": [
    "df[\"total\"].value_counts()"
   ]
  },
  {
   "cell_type": "code",
   "execution_count": 39,
   "id": "05e28506-40d7-460a-9824-f516d6969689",
   "metadata": {},
   "outputs": [
    {
     "data": {
      "text/plain": [
       "gdp\n",
       "81695.19    1\n",
       "1217.00     1\n",
       "8715.77     1\n",
       "13926.11    1\n",
       "12985.75    1\n",
       "           ..\n",
       "67967.38    1\n",
       "30427.42    1\n",
       "11360.96    1\n",
       "15797.60    1\n",
       "1369.13     1\n",
       "Name: count, Length: 90, dtype: int64"
      ]
     },
     "execution_count": 39,
     "metadata": {},
     "output_type": "execute_result"
    }
   ],
   "source": [
    "df[\"gdp\"].value_counts()"
   ]
  },
  {
   "cell_type": "code",
   "execution_count": 41,
   "id": "a09f9d3c-3c3c-4a7b-8d62-377a2ba1f8be",
   "metadata": {},
   "outputs": [
    {
     "data": {
      "text/plain": [
       "gdp_year\n",
       "2023    88\n",
       "2022     2\n",
       "Name: count, dtype: int64"
      ]
     },
     "execution_count": 41,
     "metadata": {},
     "output_type": "execute_result"
    }
   ],
   "source": [
    "df[\"gdp_year\"].value_counts()"
   ]
  },
  {
   "cell_type": "code",
   "execution_count": 43,
   "id": "f4c10320-11be-4be5-ac82-92387778d95f",
   "metadata": {},
   "outputs": [
    {
     "data": {
      "text/plain": [
       "population\n",
       "2.7     3\n",
       "2.8     2\n",
       "0.1     2\n",
       "11.3    2\n",
       "10.5    2\n",
       "       ..\n",
       "6.6     1\n",
       "6.4     1\n",
       "11.8    1\n",
       "3.8     1\n",
       "20.6    1\n",
       "Name: count, Length: 82, dtype: int64"
      ]
     },
     "execution_count": 43,
     "metadata": {},
     "output_type": "execute_result"
    }
   ],
   "source": [
    "df[\"population\"].value_counts()"
   ]
  },
  {
   "cell_type": "code",
   "execution_count": 45,
   "id": "62f339e7-f02b-4b1a-b712-95778a1874db",
   "metadata": {},
   "outputs": [
    {
     "data": {
      "text/plain": [
       "<Axes: xlabel='country', ylabel='Count'>"
      ]
     },
     "execution_count": 45,
     "metadata": {},
     "output_type": "execute_result"
    },
    {
     "data": {
      "image/png": "[encoded data removed]",
      "text/plain": [
       "<Figure size 640x480 with 1 Axes>"
      ]
     },
     "metadata": {},
     "output_type": "display_data"
    }
   ],
   "source": [
    "sns.histplot(x = \"country\", data=df)"
   ]
  },
  {
   "cell_type": "code",
   "execution_count": 47,
   "id": "62f5c07e-a8e2-4705-963f-4950ead17487",
   "metadata": {},
   "outputs": [
    {
     "data": {
      "text/plain": [
       "<Axes: xlabel='region', ylabel='Count'>"
      ]
     },
     "execution_count": 47,
     "metadata": {},
     "output_type": "execute_result"
    },
    {
     "data": {
      "image/png": "[encoded data removed]",
      "text/plain": [
       "<Figure size 640x480 with 1 Axes>"
      ]
     },
     "metadata": {},
     "output_type": "display_data"
    }
   ],
   "source": [
    "sns.histplot(x = \"region\", data=df)"
   ]
  },
  {
   "cell_type": "code",
   "execution_count": 49,
   "id": "a2687296-aa9f-47e5-9656-3f21da6b769f",
   "metadata": {},
   "outputs": [
    {
     "data": {
      "text/plain": [
       "country         False\n",
       "country_code    False\n",
       "region          False\n",
       "gold            False\n",
       "silver          False\n",
       "bronze          False\n",
       "total           False\n",
       "gdp             False\n",
       "gdp_year        False\n",
       "population      False\n",
       "dtype: bool"
      ]
     },
     "execution_count": 49,
     "metadata": {},
     "output_type": "execute_result"
    }
   ],
   "source": [
    "df.isnull().any()"
   ]
  },
  {
   "cell_type": "code",
   "execution_count": 51,
   "id": "f1cf6f44-4062-468a-bbe8-2feb149285b5",
   "metadata": {},
   "outputs": [
    {
     "data": {
      "text/plain": [
       "<bound method DataFrame.sum of     country  country_code  region   gold  silver  bronze  total    gdp  \\\n",
       "0     False         False   False  False   False   False  False  False   \n",
       "1     False         False   False  False   False   False  False  False   \n",
       "2     False         False   False  False   False   False  False  False   \n",
       "3     False         False   False  False   False   False  False  False   \n",
       "4     False         False   False  False   False   False  False  False   \n",
       "..      ...           ...     ...    ...     ...     ...    ...    ...   \n",
       "85    False         False   False  False   False   False  False  False   \n",
       "86    False         False   False  False   False   False  False  False   \n",
       "87    False         False   False  False   False   False  False  False   \n",
       "88    False         False   False  False   False   False  False  False   \n",
       "89    False         False   False  False   False   False  False  False   \n",
       "\n",
       "    gdp_year  population  \n",
       "0      False       False  \n",
       "1      False       False  \n",
       "2      False       False  \n",
       "3      False       False  \n",
       "4      False       False  \n",
       "..       ...         ...  \n",
       "85     False       False  \n",
       "86     False       False  \n",
       "87     False       False  \n",
       "88     False       False  \n",
       "89     False       False  \n",
       "\n",
       "[90 rows x 10 columns]>"
      ]
     },
     "execution_count": 51,
     "metadata": {},
     "output_type": "execute_result"
    }
   ],
   "source": [
    "df.isnull().sum"
   ]
  },
  {
   "cell_type": "code",
   "execution_count": 55,
   "id": "c100fad3-9056-4580-953e-d11af0981caa",
   "metadata": {},
   "outputs": [
    {
     "data": {
      "text/html": [
       "<div>\n",
       "<style scoped>\n",
       "    .dataframe tbody tr th:only-of-type {\n",
       "        vertical-align: middle;\n",
       "    }\n",
       "\n",
       "    .dataframe tbody tr th {\n",
       "        vertical-align: top;\n",
       "    }\n",
       "\n",
       "    .dataframe thead th {\n",
       "        text-align: right;\n",
       "    }\n",
       "</style>\n",
       "<table border=\"1\" class=\"dataframe\">\n",
       "  <thead>\n",
       "    <tr style=\"text-align: right;\">\n",
       "      <th></th>\n",
       "      <th>country</th>\n",
       "      <th>country_code</th>\n",
       "      <th>region</th>\n",
       "      <th>gold</th>\n",
       "      <th>silver</th>\n",
       "      <th>bronze</th>\n",
       "      <th>total</th>\n",
       "      <th>gdp</th>\n",
       "      <th>gdp_year</th>\n",
       "      <th>population</th>\n",
       "    </tr>\n",
       "  </thead>\n",
       "  <tbody>\n",
       "    <tr>\n",
       "      <th>0</th>\n",
       "      <td>United States</td>\n",
       "      <td>USA</td>\n",
       "      <td>North America</td>\n",
       "      <td>40</td>\n",
       "      <td>44</td>\n",
       "      <td>42</td>\n",
       "      <td>126</td>\n",
       "      <td>81695.19</td>\n",
       "      <td>2023</td>\n",
       "      <td>334.9</td>\n",
       "    </tr>\n",
       "    <tr>\n",
       "      <th>1</th>\n",
       "      <td>China</td>\n",
       "      <td>CHN</td>\n",
       "      <td>Asia</td>\n",
       "      <td>40</td>\n",
       "      <td>27</td>\n",
       "      <td>24</td>\n",
       "      <td>91</td>\n",
       "      <td>12614.06</td>\n",
       "      <td>2023</td>\n",
       "      <td>1410.7</td>\n",
       "    </tr>\n",
       "    <tr>\n",
       "      <th>2</th>\n",
       "      <td>Japan</td>\n",
       "      <td>JPN</td>\n",
       "      <td>Asia</td>\n",
       "      <td>20</td>\n",
       "      <td>12</td>\n",
       "      <td>13</td>\n",
       "      <td>45</td>\n",
       "      <td>33834.39</td>\n",
       "      <td>2023</td>\n",
       "      <td>124.5</td>\n",
       "    </tr>\n",
       "    <tr>\n",
       "      <th>3</th>\n",
       "      <td>Australia</td>\n",
       "      <td>AUS</td>\n",
       "      <td>Oceania</td>\n",
       "      <td>18</td>\n",
       "      <td>19</td>\n",
       "      <td>16</td>\n",
       "      <td>53</td>\n",
       "      <td>64711.77</td>\n",
       "      <td>2023</td>\n",
       "      <td>26.6</td>\n",
       "    </tr>\n",
       "    <tr>\n",
       "      <th>4</th>\n",
       "      <td>France</td>\n",
       "      <td>FRA</td>\n",
       "      <td>Europe</td>\n",
       "      <td>16</td>\n",
       "      <td>26</td>\n",
       "      <td>22</td>\n",
       "      <td>64</td>\n",
       "      <td>44460.82</td>\n",
       "      <td>2023</td>\n",
       "      <td>68.2</td>\n",
       "    </tr>\n",
       "  </tbody>\n",
       "</table>\n",
       "</div>"
      ],
      "text/plain": [
       "         country country_code         region  gold  silver  bronze  total  \\\n",
       "0  United States          USA  North America    40      44      42    126   \n",
       "1          China          CHN           Asia    40      27      24     91   \n",
       "2          Japan          JPN           Asia    20      12      13     45   \n",
       "3      Australia          AUS        Oceania    18      19      16     53   \n",
       "4         France          FRA         Europe    16      26      22     64   \n",
       "\n",
       "        gdp  gdp_year  population  \n",
       "0  81695.19      2023       334.9  \n",
       "1  12614.06      2023      1410.7  \n",
       "2  33834.39      2023       124.5  \n",
       "3  64711.77      2023        26.6  \n",
       "4  44460.82      2023        68.2  "
      ]
     },
     "execution_count": 55,
     "metadata": {},
     "output_type": "execute_result"
    }
   ],
   "source": [
    "df.head()"
   ]
  },
  {
   "cell_type": "code",
   "execution_count": 57,
   "id": "ab4b650a-9bdc-47b9-a085-1b0ceccc076f",
   "metadata": {},
   "outputs": [
    {
     "data": {
      "text/plain": [
       "<bound method Series.unique of 0     United States\n",
       "1             China\n",
       "2             Japan\n",
       "3         Australia\n",
       "4            France\n",
       "          ...      \n",
       "85             Peru\n",
       "86            Qatar\n",
       "87        Singapore\n",
       "88         Slovakia\n",
       "89           Zambia\n",
       "Name: country, Length: 90, dtype: object>"
      ]
     },
     "execution_count": 57,
     "metadata": {},
     "output_type": "execute_result"
    }
   ],
   "source": [
    "df[\"country\"].unique"
   ]
  },
  {
   "cell_type": "code",
   "execution_count": 59,
   "id": "3dab13bc-208b-4161-a691-c7f5ba8aa627",
   "metadata": {},
   "outputs": [
    {
     "data": {
      "text/plain": [
       "<bound method Series.unique of 0     North America\n",
       "1              Asia\n",
       "2              Asia\n",
       "3           Oceania\n",
       "4            Europe\n",
       "          ...      \n",
       "85    South America\n",
       "86             Asia\n",
       "87             Asia\n",
       "88           Europe\n",
       "89           Africa\n",
       "Name: region, Length: 90, dtype: object>"
      ]
     },
     "execution_count": 59,
     "metadata": {},
     "output_type": "execute_result"
    }
   ],
   "source": [
    "df[\"region\"].unique"
   ]
  },
  {
   "cell_type": "code",
   "execution_count": 61,
   "id": "3b10e19b-bea8-483c-a312-840d184573db",
   "metadata": {},
   "outputs": [
    {
     "data": {
      "text/plain": [
       "<bound method Series.unique of 0     81695.19\n",
       "1     12614.06\n",
       "2     33834.39\n",
       "3     64711.77\n",
       "4     44460.82\n",
       "        ...   \n",
       "85     7789.87\n",
       "86    87480.42\n",
       "87    84734.26\n",
       "88    24470.24\n",
       "89     1369.13\n",
       "Name: gdp, Length: 90, dtype: float64>"
      ]
     },
     "execution_count": 61,
     "metadata": {},
     "output_type": "execute_result"
    }
   ],
   "source": [
    "df[\"gdp\"].unique"
   ]
  },
  {
   "cell_type": "code",
   "execution_count": null,
   "id": "881a231f-98a4-41ed-9492-07e773623bae",
   "metadata": {},
   "outputs": [],
   "source": []
  }
 ],
 "metadata": {
  "kernelspec": {
   "display_name": "Python 3 (ipykernel)",
   "language": "python",
   "name": "python3"
  },
  "language_info": {
   "codemirror_mode": {
    "name": "ipython",
    "version": 3
   },
   "file_extension": ".py",
   "mimetype": "text/x-python",
   "name": "python",
   "nbconvert_exporter": "python",
   "pygments_lexer": "ipython3",
   "version": "3.12.4"
  }
 },
 "nbformat": 4,
 "nbformat_minor": 5
}
